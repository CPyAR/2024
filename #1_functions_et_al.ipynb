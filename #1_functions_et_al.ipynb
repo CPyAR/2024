{
 "cells": [
  {
   "cell_type": "markdown",
   "metadata": {},
   "source": [
    "#a Find the number of digits in a non-negative integer."
   ]
  },
  {
   "cell_type": "markdown",
   "metadata": {},
   "source": [
    "Note:python3 -m pip install ipykernel -U --user --force-reinstall"
   ]
  },
  {
   "cell_type": "code",
   "execution_count": 2,
   "metadata": {},
   "outputs": [
    {
     "name": "stdout",
     "output_type": "stream",
     "text": [
      "0\n"
     ]
    }
   ],
   "source": [
    "def number_length(value:int)-> int:\n",
    "    # your code here\n",
    "    return 0\n",
    "\n",
    "#output\n",
    "print(number_length(10))\n"
   ]
  },
  {
   "cell_type": "markdown",
   "metadata": {},
   "source": [
    "#b  Ascertain whether all elements in the given sequence are equal."
   ]
  },
  {
   "cell_type": "code",
   "execution_count": 3,
   "metadata": {},
   "outputs": [
    {
     "name": "stdout",
     "output_type": "stream",
     "text": [
      "True\n"
     ]
    }
   ],
   "source": [
    "from typing import List, Any\n",
    "def all_the_same(elements: List[Any]) -> bool:\n",
    "    # your code here\n",
    "        return True\n",
    "\n",
    "\n",
    "#output\n",
    "print(all_the_same([1, 2, 1]))\n"
   ]
  },
  {
   "cell_type": "markdown",
   "metadata": {},
   "source": [
    "#c You should return a given string in reverse order.\n",
    "        \n",
    "        HELLO  > OLLEH"
   ]
  },
  {
   "cell_type": "code",
   "execution_count": 4,
   "metadata": {},
   "outputs": [
    {
     "name": "stdout",
     "output_type": "stream",
     "text": [
      "\n"
     ]
    }
   ],
   "source": [
    "def backward_string(val: str) -> str:\n",
    "     # your code here\n",
    "    return \"\"\n",
    "\n",
    "#output\n",
    "print(backward_string(\"hello world\"))\n"
   ]
  },
  {
   "cell_type": "markdown",
   "metadata": {},
   "source": [
    "#d Determine the most frequently occurring string in the sequence\n",
    "\n",
    "    HELLO  >  L - 2 events"
   ]
  },
  {
   "cell_type": "code",
   "execution_count": 5,
   "metadata": {},
   "outputs": [
    {
     "name": "stdout",
     "output_type": "stream",
     "text": [
      "\n"
     ]
    }
   ],
   "source": [
    "def most_frequent(data: list[str]) -> str:\n",
    "    # your code here\n",
    "    return  \"\"\n",
    "    \n",
    "#output\n",
    "print(most_frequent([\"a\", \"b\", \"c\", \"b\", \"b\", \"a\"]))\n"
   ]
  },
  {
   "cell_type": "markdown",
   "metadata": {},
   "source": [
    "#e Determine the number of zeros that a given number has at the end."
   ]
  },
  {
   "cell_type": "code",
   "execution_count": 6,
   "metadata": {},
   "outputs": [
    {
     "name": "stdout",
     "output_type": "stream",
     "text": [
      "0\n"
     ]
    }
   ],
   "source": [
    "def end_zeros(a: int) -> int:\n",
    "    # your code here\n",
    "    return 0\n",
    "\n",
    "\n",
    "#output\n",
    "print(end_zeros(11))\n"
   ]
  },
  {
   "cell_type": "markdown",
   "metadata": {},
   "source": [
    "#f The objective is to calculate the number of digits present in a given string of characters.\n",
    "\n",
    "    “which individual was the 1 to arrive. “ >  1 event"
   ]
  },
  {
   "cell_type": "code",
   "execution_count": 7,
   "metadata": {},
   "outputs": [
    {
     "name": "stdout",
     "output_type": "stream",
     "text": [
      "0\n"
     ]
    }
   ],
   "source": [
    "def count_digits(text: str) -> int:\n",
    "    # your code here\n",
    "    return 0\n",
    "\n",
    "\n",
    "\n",
    "\n",
    "#output\n",
    "print(count_digits(\"which individual was the 1 to arrive.\"))\n",
    "\n"
   ]
  }
 ],
 "metadata": {
  "kernelspec": {
   "display_name": "Python 3",
   "language": "python",
   "name": "python3"
  },
  "language_info": {
   "codemirror_mode": {
    "name": "ipython",
    "version": 3
   },
   "file_extension": ".py",
   "mimetype": "text/x-python",
   "name": "python",
   "nbconvert_exporter": "python",
   "pygments_lexer": "ipython3",
   "version": "3.12.3"
  }
 },
 "nbformat": 4,
 "nbformat_minor": 2
}
